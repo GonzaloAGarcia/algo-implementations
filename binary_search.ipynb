{
 "cells": [
  {
   "cell_type": "code",
   "execution_count": 8,
   "metadata": {},
   "outputs": [],
   "source": [
    "def bs(array, item):\n",
    "    newHigh = len(array)\n",
    "    newLow = 0\n",
    "    newGuess = array[int((newHigh + newLow)/2)]\n",
    "    while newGuess != item:\n",
    "        if newHigh == newGuess or newLow == newGuess:\n",
    "            print('Item is not in array')\n",
    "            break\n",
    "        elif newGuess < item:\n",
    "            print(newGuess)\n",
    "            newLow = newGuess\n",
    "            newGuess = array[int((newHigh + newLow)/2)]\n",
    "            print('New low ' + str(newLow))\n",
    "            print('guess ' + str(newGuess))\n",
    "        else:\n",
    "            print(newGuess)\n",
    "            newHigh = newGuess\n",
    "            newGuess = array[int((newHigh + newLow)/2)]\n",
    "            print('New high ' + str(newHigh))\n",
    "            print('guess ' + str(newGuess))\n",
    "    else:\n",
    "        print(\"Your number is \" + str(newGuess))"
   ]
  },
  {
   "cell_type": "code",
   "execution_count": 9,
   "metadata": {},
   "outputs": [
    {
     "name": "stdout",
     "output_type": "stream",
     "text": [
      "5\n",
      "New high 5\n",
      "guess 2\n",
      "2\n",
      "New high 2\n",
      "guess 1\n",
      "1\n",
      "New high 1\n",
      "guess 0\n",
      "Your number is 0\n",
      "5\n",
      "New high 5\n",
      "guess 2\n",
      "2\n",
      "New high 2\n",
      "guess 1\n",
      "Your number is 1\n",
      "5\n",
      "New high 5\n",
      "guess 2\n",
      "Your number is 2\n",
      "5\n",
      "New high 5\n",
      "guess 2\n",
      "2\n",
      "New low 2\n",
      "guess 3\n",
      "Your number is 3\n",
      "5\n",
      "New high 5\n",
      "guess 2\n",
      "2\n",
      "New low 2\n",
      "guess 3\n",
      "3\n",
      "New low 3\n",
      "guess 4\n",
      "Your number is 4\n",
      "Your number is 5\n",
      "5\n",
      "New low 5\n",
      "guess 7\n",
      "7\n",
      "New high 7\n",
      "guess 6\n",
      "Your number is 6\n",
      "5\n",
      "New low 5\n",
      "guess 7\n",
      "Your number is 7\n",
      "5\n",
      "New low 5\n",
      "guess 7\n",
      "7\n",
      "New low 7\n",
      "guess 8\n",
      "Your number is 8\n",
      "5\n",
      "New low 5\n",
      "guess 7\n",
      "7\n",
      "New low 7\n",
      "guess 8\n",
      "8\n",
      "New low 8\n",
      "guess 9\n",
      "Your number is 9\n"
     ]
    }
   ],
   "source": [
    "arr = [0,1,2,3,4,5,6,7,8,9]\n",
    "for i in arr:\n",
    "    bs(arr,i)"
   ]
  },
  {
   "cell_type": "code",
   "execution_count": 10,
   "metadata": {},
   "outputs": [
    {
     "name": "stdout",
     "output_type": "stream",
     "text": [
      "5\n",
      "New high 5\n",
      "guess 2\n",
      "2\n",
      "New high 2\n",
      "guess 1\n",
      "1\n",
      "New high 1\n",
      "guess 0\n",
      "Item is not in array\n"
     ]
    }
   ],
   "source": [
    "bs(arr, -1)"
   ]
  },
  {
   "cell_type": "code",
   "execution_count": 11,
   "metadata": {},
   "outputs": [
    {
     "name": "stdout",
     "output_type": "stream",
     "text": [
      "5\n",
      "New high 5\n",
      "guess 2\n",
      "2\n",
      "New high 2\n",
      "guess 1\n",
      "1\n",
      "New high 1\n",
      "guess 0\n",
      "Item is not in array\n"
     ]
    }
   ],
   "source": [
    "bs(arr, 0.5)"
   ]
  },
  {
   "cell_type": "code",
   "execution_count": 12,
   "metadata": {},
   "outputs": [
    {
     "name": "stdout",
     "output_type": "stream",
     "text": [
      "5\n",
      "New low 5\n",
      "guess 7\n",
      "7\n",
      "New low 7\n",
      "guess 8\n",
      "8\n",
      "New low 8\n",
      "guess 9\n",
      "9\n",
      "New low 9\n",
      "guess 9\n",
      "Item is not in array\n"
     ]
    }
   ],
   "source": [
    "bs(arr, 365)"
   ]
  }
 ],
 "metadata": {
  "kernelspec": {
   "display_name": "Python 3",
   "language": "python",
   "name": "python3"
  },
  "language_info": {
   "codemirror_mode": {
    "name": "ipython",
    "version": 3
   },
   "file_extension": ".py",
   "mimetype": "text/x-python",
   "name": "python",
   "nbconvert_exporter": "python",
   "pygments_lexer": "ipython3",
   "version": "3.6.9"
  }
 },
 "nbformat": 4,
 "nbformat_minor": 2
}
