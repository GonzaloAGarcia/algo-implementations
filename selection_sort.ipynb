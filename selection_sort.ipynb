{
 "nbformat": 4,
 "nbformat_minor": 2,
 "metadata": {
  "language_info": {
   "name": "python",
   "codemirror_mode": {
    "name": "ipython",
    "version": 3
   },
   "version": "3.6.9-final"
  },
  "orig_nbformat": 2,
  "file_extension": ".py",
  "mimetype": "text/x-python",
  "name": "python",
  "npconvert_exporter": "python",
  "pygments_lexer": "ipython3",
  "version": 3,
  "kernelspec": {
   "name": "python36964bitlepantoconda3abcf0574fef4df5853fcee146c9f5cb",
   "display_name": "Python 3.6.9 64-bit ('lepanto': conda)"
  }
 },
 "cells": [
  {
   "cell_type": "code",
   "execution_count": 1,
   "metadata": {},
   "outputs": [],
   "source": [
    "import random"
   ]
  },
  {
   "cell_type": "code",
   "execution_count": 2,
   "metadata": {},
   "outputs": [],
   "source": [
    "usl = [random.randint(0, 20) for x in range(20)]"
   ]
  },
  {
   "cell_type": "code",
   "execution_count": 3,
   "metadata": {},
   "outputs": [
    {
     "data": {
      "text/plain": "[10, 16, 2, 10, 13, 3, 12, 0, 11, 11, 6, 12, 13, 3, 1, 13, 12, 13, 7, 4]"
     },
     "execution_count": 3,
     "metadata": {},
     "output_type": "execute_result"
    }
   ],
   "source": [
    "usl"
   ]
  },
  {
   "cell_type": "code",
   "execution_count": 4,
   "metadata": {},
   "outputs": [],
   "source": [
    "def find_smallest(arr, max_of_array):\n",
    "    smallest = max_of_array\n",
    "    index = 0\n",
    "    for x in range(len(arr)):\n",
    "        if arr[x] < smallest:\n",
    "            smallest = arr[x]\n",
    "            index = x\n",
    "    arr[index] = max_of_array\n",
    "    return smallest"
   ]
  },
  {
   "cell_type": "code",
   "execution_count": 5,
   "metadata": {},
   "outputs": [],
   "source": [
    "def ss(array, max_of_array):\n",
    "    sorted_array = []\n",
    "    for y in range(len(array)):\n",
    "        smallest = find_smallest(array, max_of_array)\n",
    "        sorted_array.append(smallest)\n",
    "    return sorted_array"
   ]
  },
  {
   "cell_type": "code",
   "execution_count": 6,
   "metadata": {},
   "outputs": [
    {
     "data": {
      "text/plain": "[0, 1, 2, 3, 3, 4, 6, 7, 10, 10, 11, 11, 12, 12, 12, 13, 13, 13, 13, 16]"
     },
     "execution_count": 6,
     "metadata": {},
     "output_type": "execute_result"
    }
   ],
   "source": [
    "ss(usl, 20)"
   ]
  }
 ]
}