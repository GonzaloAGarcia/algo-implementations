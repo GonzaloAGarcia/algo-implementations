{
 "nbformat": 4,
 "nbformat_minor": 2,
 "metadata": {
  "language_info": {
   "name": "python",
   "codemirror_mode": {
    "name": "ipython",
    "version": 3
   },
   "version": "3.6.9-final"
  },
  "orig_nbformat": 2,
  "file_extension": ".py",
  "mimetype": "text/x-python",
  "name": "python",
  "npconvert_exporter": "python",
  "pygments_lexer": "ipython3",
  "version": 3,
  "kernelspec": {
   "name": "python36964bitlepantoconda3abcf0574fef4df5853fcee146c9f5cb",
   "display_name": "Python 3.6.9 64-bit ('lepanto': conda)"
  }
 },
 "cells": [
  {
   "cell_type": "code",
   "execution_count": 22,
   "metadata": {},
   "outputs": [],
   "source": [
    "import random"
   ]
  },
  {
   "cell_type": "code",
   "execution_count": 1,
   "metadata": {},
   "outputs": [],
   "source": [
    "def sum(arr):\n",
    "    if len(arr) == 0:\n",
    "        return 0\n",
    "    return arr[0] + sum(arr[1:])"
   ]
  },
  {
   "cell_type": "code",
   "execution_count": 3,
   "metadata": {},
   "outputs": [
    {
     "data": {
      "text/plain": "5050"
     },
     "execution_count": 3,
     "metadata": {},
     "output_type": "execute_result"
    }
   ],
   "source": [
    "arr = range(101)\n",
    "sum(arr)"
   ]
  },
  {
   "cell_type": "code",
   "execution_count": 5,
   "metadata": {},
   "outputs": [],
   "source": [
    "def count(arr):\n",
    "    if len(arr) == 0:\n",
    "        return 0\n",
    "    return 1 + count(arr[1:])"
   ]
  },
  {
   "cell_type": "code",
   "execution_count": 6,
   "metadata": {},
   "outputs": [
    {
     "data": {
      "text/plain": "101"
     },
     "execution_count": 6,
     "metadata": {},
     "output_type": "execute_result"
    }
   ],
   "source": [
    "count(arr)"
   ]
  },
  {
   "cell_type": "code",
   "execution_count": 18,
   "metadata": {},
   "outputs": [],
   "source": [
    "def maxim(arr):\n",
    "    if len(arr) == 2:\n",
    "        return arr[0] if arr[0] > arr[1] else arr[1]\n",
    "    sub_max = maxim(arr[1:])\n",
    "    return arr[0] if arr[0] > sub_max else sub_max"
   ]
  },
  {
   "cell_type": "code",
   "execution_count": 19,
   "metadata": {},
   "outputs": [
    {
     "data": {
      "text/plain": "100"
     },
     "execution_count": 19,
     "metadata": {},
     "output_type": "execute_result"
    }
   ],
   "source": [
    "maxim(arr)"
   ]
  },
  {
   "cell_type": "code",
   "execution_count": 28,
   "metadata": {},
   "outputs": [],
   "source": [
    "def quicksort(arr):\n",
    "    if len(arr) < 2:\n",
    "        return arr\n",
    "    pivot = arr[0]\n",
    "    smaller_than_pivot = [i for i in arr[1:] if i <= pivot]\n",
    "    bigger_than_pivot = [i for i in arr[1:] if i > pivot]\n",
    "    return quicksort(smaller_than_pivot) + [pivot] + quicksort(bigger_than_pivot)"
   ]
  },
  {
   "cell_type": "code",
   "execution_count": 29,
   "metadata": {},
   "outputs": [
    {
     "name": "stdout",
     "output_type": "stream",
     "text": "[54, 77, 58, 89, 44, 4, 5, 64, 17, 23, 8, 35, 23, 85, 60, 50, 14, 92, 93, 6, 44, 65, 59, 27, 67, 9, 35, 38, 12, 13, 4, 32, 80, 87, 27, 45, 44, 0, 76, 43, 30, 11, 68, 21, 0, 91, 72, 48, 85, 72, 36, 54, 81, 11, 51, 40, 99, 100, 20, 97, 18, 75, 63, 44, 22, 49, 6, 16, 28, 24, 38, 48, 70, 63, 36, 93, 8, 31, 2, 6, 17, 75, 33, 41, 28, 58, 1, 54, 39, 13, 17, 45, 37, 34, 14, 4, 33, 90, 66, 88]\n"
    }
   ],
   "source": [
    "arr = [random.randint(0, 100) for i in range(100)]\n",
    "print(arr)"
   ]
  },
  {
   "cell_type": "code",
   "execution_count": 30,
   "metadata": {},
   "outputs": [
    {
     "data": {
      "text/plain": "[0,\n 0,\n 1,\n 2,\n 4,\n 4,\n 4,\n 5,\n 6,\n 6,\n 6,\n 8,\n 8,\n 9,\n 11,\n 11,\n 12,\n 13,\n 13,\n 14,\n 14,\n 16,\n 17,\n 17,\n 17,\n 18,\n 20,\n 21,\n 22,\n 23,\n 23,\n 24,\n 27,\n 27,\n 28,\n 28,\n 30,\n 31,\n 32,\n 33,\n 33,\n 34,\n 35,\n 35,\n 36,\n 36,\n 37,\n 38,\n 38,\n 39,\n 40,\n 41,\n 43,\n 44,\n 44,\n 44,\n 44,\n 45,\n 45,\n 48,\n 48,\n 49,\n 50,\n 51,\n 54,\n 54,\n 54,\n 58,\n 58,\n 59,\n 60,\n 63,\n 63,\n 64,\n 65,\n 66,\n 67,\n 68,\n 70,\n 72,\n 72,\n 75,\n 75,\n 76,\n 77,\n 80,\n 81,\n 85,\n 85,\n 87,\n 88,\n 89,\n 90,\n 91,\n 92,\n 93,\n 93,\n 97,\n 99,\n 100]"
     },
     "execution_count": 30,
     "metadata": {},
     "output_type": "execute_result"
    }
   ],
   "source": [
    "quicksort(arr)"
   ]
  },
  {
   "cell_type": "code",
   "execution_count": null,
   "metadata": {},
   "outputs": [],
   "source": []
  }
 ]
}